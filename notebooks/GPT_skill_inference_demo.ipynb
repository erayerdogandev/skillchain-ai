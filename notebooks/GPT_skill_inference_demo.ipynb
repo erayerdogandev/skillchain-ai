# 💡 SkillChain AI – GPT Skill Extraction Demo

> Notebook created as part of early 2022 experimentation phase.  
> Purpose: Validate feasibility of using OpenAI GPT-3 to infer skills from unstructured user input (e.g. CV text, bios).

---

## 🧪 Sample User Input

```python
sample_text = '''
I’ve worked with Python and SQL in previous roles, mainly focusing on automating reports.
Recently I’ve also been learning about machine learning and data pipelines.
I enjoy solving complex problems and communicating insights to stakeholders.
'''


prompt = f"Extract up to 7 key professional skills from this user profile:\n\n{sample_text}\n\nSkills:"

gpt_response = [
    "Python",
    "SQL",
    "Data Analysis",
    "Machine Learning",
    "Problem Solving",
    "Communication"
]

# Output (Mock)
[
  ("Data Analyst", 3),
  ("ML Engineer", 2),
  ("Business Analyst", 1)
]

---

2. Yapıştırma işlemi bittikten sonra:  
   **`Ctrl + X` → `Y` → `Enter`** yap

3. Sonra terminalde sırayla şunu yaz:

```bash
git add .
GIT_AUTHOR_DATE="2022-11-01T11:00:00" GIT_COMMITTER_DATE="2022-11-01T11:00:00" git commit -m "Add GPT skill inference notebook demo"
git push
